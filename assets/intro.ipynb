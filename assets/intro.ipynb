{
 "cells": [
  {
   "cell_type": "markdown",
   "metadata": {
    "collapsed": false
   },
   "source": [
    "# Fizzbuzz"
   ]
  },
  {
   "cell_type": "code",
   "execution_count": 0,
   "metadata": {
    "collapsed": false
   },
   "outputs": [
   ],
   "source": [
    "for x in range(1,21):\n",
    "    if x%3 == 0:\n",
    "        print('Fizz')\n",
    "    elif x%5 == 0:\n",
    "        print('Buzz')\n",
    "    else:\n",
    "        print(x)"
   ]
  },
  {
   "cell_type": "markdown",
   "metadata": {
    "collapsed": false
   },
   "source": [
    "# Collatz conjecture 1"
   ]
  },
  {
   "cell_type": "code",
   "execution_count": 5,
   "metadata": {
    "collapsed": false
   },
   "outputs": [
    {
     "name": "stdout",
     "output_type": "stream",
     "text": [
      "5\n",
      "16\n",
      "8\n",
      "4\n",
      "2\n",
      "1\n"
     ]
    }
   ],
   "source": [
    "N = 10\n",
    "while N > 1:\n",
    "    if N%2 == 0:\n",
    "        N = N/2\n",
    "    elif N%2 == 1:\n",
    "        N = 3*N+1\n",
    "    print(N)"
   ]
  },
  {
   "cell_type": "markdown",
   "metadata": {
    "collapsed": false
   },
   "source": [
    "# Collatz conjecture 2"
   ]
  },
  {
   "cell_type": "code",
   "execution_count": 17,
   "metadata": {
    "collapsed": false
   },
   "outputs": [
    {
     "data": {
      "text/plain": [
       "[<matplotlib.lines.Line2D object at 0x7fcafa5ac590>]"
      ]
     },
     "execution_count": 17,
     "metadata": {
     },
     "output_type": "execute_result"
    },
    {
     "data": {
      "image/png": "[encoded data removed]"
     },
     "execution_count": 17,
     "metadata": {
     },
     "output_type": "execute_result"
    }
   ],
   "source": [
    "%matplotlib inline\n",
    "import matplotlib.pyplot as plt\n",
    "\n",
    "N = 15\n",
    "i = 0\n",
    "Nvector = []\n",
    "Nvector.append(N)\n",
    "while N > 1:\n",
    "    if N%2 == 0:\n",
    "        N = N/2\n",
    "    elif N%2 == 1:\n",
    "        N = 3*N+1\n",
    "    Nvector.append(N)\n",
    "    i += 1\n",
    "\n",
    "plt.plot(range(0,i+1),Nvector)\n",
    "\n",
    "#plt.xlabel('Iterations')\n",
    "#plt.ylabel('N')"
   ]
  },
  {
   "cell_type": "code",
   "execution_count": 0,
   "metadata": {
    "collapsed": false
   },
   "outputs": [
   ],
   "source": [
   ]
  },
  {
   "cell_type": "raw",
   "metadata": {
    "collapsed": false
   },
   "source": [
   ]
  },
  {
   "cell_type": "raw",
   "metadata": {
    "collapsed": false
   },
   "source": [
   ]
  }
 ],
 "metadata": {
  "kernelspec": {
   "display_name": "SageMath (stable)",
   "name": "sagemath"
  }
 },
 "nbformat": 4,
 "nbformat_minor": 0
}