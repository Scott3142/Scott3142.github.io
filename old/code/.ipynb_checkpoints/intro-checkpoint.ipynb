{
 "cells": [
  {
   "cell_type": "markdown",
   "metadata": {},
   "source": [
    "## Python practice\n",
    "\n",
    "Experiment with this file. Go through each cell and change some values so that you understand what it's doing.\n",
    "\n",
    "--------\n",
    "\n",
    "#### Notes:\n",
    "* To run a cell, press Shift+Enter or go to Cell -> Run Cells.\n",
    "\n",
    "\n",
    "* Ask questions! Ask each other, ask me, ask Google. Read the error prompts - they are usually helpful!!"
   ]
  },
  {
   "cell_type": "code",
   "execution_count": null,
   "metadata": {
    "collapsed": true
   },
   "outputs": [],
   "source": [
    "print('Hello World!')"
   ]
  },
  {
   "cell_type": "code",
   "execution_count": null,
   "metadata": {
    "collapsed": true
   },
   "outputs": [],
   "source": [
    "#simple arithmetic\n",
    "2 + 3"
   ]
  },
  {
   "cell_type": "code",
   "execution_count": null,
   "metadata": {
    "collapsed": true
   },
   "outputs": [],
   "source": [
    "#assign value to variable a, then do stuff to it\n",
    "a = 2\n",
    "print(a + 4)\n",
    "print(a * 6)\n",
    "print(a * a)"
   ]
  },
  {
   "cell_type": "code",
   "execution_count": null,
   "metadata": {
    "collapsed": true
   },
   "outputs": [],
   "source": [
    "#assign a variable, reassign it and print\n",
    "a = 3\n",
    "a = a + 1 #a += 1 does the same thing here\n",
    "print(a)"
   ]
  },
  {
   "cell_type": "code",
   "execution_count": null,
   "metadata": {
    "collapsed": true
   },
   "outputs": [],
   "source": [
    "#loop through some range\n",
    "for j in range(1,10): #note that \"range\" goes from 1 to 9 here\n",
    "    print(j)"
   ]
  },
  {
   "cell_type": "code",
   "execution_count": null,
   "metadata": {
    "collapsed": true
   },
   "outputs": [],
   "source": [
    "#add a conditional 'if' statement to a loop\n",
    "for j in range(1,10):\n",
    "    if j == 5 or j == 7: #note the double == (asks is j=5? if yes, print j)\n",
    "        print(j)"
   ]
  },
  {
   "cell_type": "code",
   "execution_count": null,
   "metadata": {
    "collapsed": true
   },
   "outputs": [],
   "source": [
    "#manipulating strings using + \n",
    "firstname = \"Scott\"\n",
    "lastname = \"Morgan\"\n",
    "print(firstname)\n",
    "print(lastname)\n",
    "print(firstname + \" \" + lastname) #note the space in the middle"
   ]
  },
  {
   "cell_type": "code",
   "execution_count": null,
   "metadata": {
    "collapsed": true
   },
   "outputs": [],
   "source": [
    "#debugging exercise - find and fix all errors/bugs!\n",
    "for k in range(1,10)\n",
    "k += 1 #adds one to the current value of k\n",
    "if k = 6:\n",
    "    print(\"k = \")\n",
    "    print(k)"
   ]
  },
  {
   "cell_type": "markdown",
   "metadata": {},
   "source": [
    "#### Debugging exercise solution:\n",
    "\n",
    "Output should be exactly:\n",
    "\n",
    "```\n",
    "k = \n",
    "6\n",
    "```"
   ]
  }
 ],
 "metadata": {
  "kernelspec": {
   "display_name": "Python 2",
   "language": "python",
   "name": "python2"
  },
  "language_info": {
   "codemirror_mode": {
    "name": "ipython",
    "version": 2
   },
   "file_extension": ".py",
   "mimetype": "text/x-python",
   "name": "python",
   "nbconvert_exporter": "python",
   "pygments_lexer": "ipython2",
   "version": "2.7.6"
  }
 },
 "nbformat": 4,
 "nbformat_minor": 2
}
