{
 "cells": [
  {
   "cell_type": "markdown",
   "metadata": {},
   "source": [
    "## Lesson 1 - Towers of Hanoi\n",
    "\n",
    "This program runs the 'Towers of Hanoi' game for a tower size given by a user input N. Experiment with this file. Change N, see what happens.\n",
    "\n",
    "--------\n",
    "\n",
    "#### Notes:\n",
    "* To run a cell, press Shift+Enter or go to Cell -> Run Cells.\n",
    "\n",
    "\n",
    "* Ask questions! Ask each other, ask me, ask Google. Read the error prompts - they are usually helpful!!"
   ]
  },
  {
   "cell_type": "code",
   "execution_count": null,
   "metadata": {
    "scrolled": false
   },
   "outputs": [],
   "source": [
    "# Recursive Python function to solve tower of hanoi\n",
    "def TowerOfHanoi(n,left,right,middle):\n",
    "    if n == 1:\n",
    "        print \"Move disk 1 from\",left,\"rod to\",right,\"rod\"\n",
    "        return\n",
    "    TowerOfHanoi(n-1,left,middle,right)\n",
    "    print \"Move disk\",n,\"from\",left,\"rod to\",right,\"rod\"\n",
    "    TowerOfHanoi(n-1,middle,right,left)\n",
    "         \n",
    "# Run function\n",
    "n = 4\n",
    "TowerOfHanoi(n,'left','right','middle') "
   ]
  }
 ],
 "metadata": {
  "kernelspec": {
   "display_name": "Python 2",
   "language": "python",
   "name": "python2"
  },
  "language_info": {
   "codemirror_mode": {
    "name": "ipython",
    "version": 2
   },
   "file_extension": ".py",
   "mimetype": "text/x-python",
   "name": "python",
   "nbconvert_exporter": "python",
   "pygments_lexer": "ipython2",
   "version": "2.7.6"
  }
 },
 "nbformat": 4,
 "nbformat_minor": 2
}
