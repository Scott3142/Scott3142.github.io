{
 "cells": [
  {
   "cell_type": "markdown",
   "metadata": {},
   "source": [
    "# Lesson 1 - Experimenting with Python\n",
    "\n",
    "Experiment with this file. Go through each cell and change some values so that you understand what it's doing. Remember your notebook from Lesson 0 - this has an overview of the commands below!\n",
    "\n",
    "--------\n",
    "\n",
    "#### Notes:\n",
    "* To run a cell, press Shift+Enter or go to Cell -> Run Cells.\n",
    "\n",
    "\n",
    "* Ask questions! Ask each other, ask me, ask Google. Read the error prompts - they are usually helpful!!"
   ]
  },
  {
   "cell_type": "code",
   "execution_count": null,
   "metadata": {
    "collapsed": true
   },
   "outputs": [],
   "source": [
    "print('Hello World!')"
   ]
  },
  {
   "cell_type": "code",
   "execution_count": null,
   "metadata": {
    "collapsed": true
   },
   "outputs": [],
   "source": [
    "#simple arithmetic\n",
    "2 + 3"
   ]
  },
  {
   "cell_type": "code",
   "execution_count": null,
   "metadata": {
    "collapsed": true
   },
   "outputs": [],
   "source": [
    "#assign value to variable a, then do stuff to it\n",
    "a = 2\n",
    "print(a + 4)\n",
    "print(a * 6)\n",
    "print(a * a)"
   ]
  },
  {
   "cell_type": "code",
   "execution_count": null,
   "metadata": {
    "collapsed": true
   },
   "outputs": [],
   "source": [
    "#assign a variable, reassign it and print\n",
    "a = 3\n",
    "a = a + 1 #a += 1 does the same thing here\n",
    "print(a)"
   ]
  },
  {
   "cell_type": "code",
   "execution_count": null,
   "metadata": {
    "collapsed": true
   },
   "outputs": [],
   "source": [
    "#loop through some range\n",
    "for j in range(1,10): #note that \"range\" goes from 1 to 9 here\n",
    "    print(j)"
   ]
  },
  {
   "cell_type": "code",
   "execution_count": null,
   "metadata": {
    "collapsed": true
   },
   "outputs": [],
   "source": [
    "#add a conditional 'if' statement to a loop\n",
    "for j in range(1,10):\n",
    "    if j == 5 or j == 7: #note the double == (asks is j=5? if yes, print j)\n",
    "        print(j)"
   ]
  },
  {
   "cell_type": "code",
   "execution_count": null,
   "metadata": {
    "collapsed": true
   },
   "outputs": [],
   "source": [
    "#manipulating strings using + \n",
    "firstname = \"Scott\"\n",
    "lastname = \"Morgan\"\n",
    "print(firstname)\n",
    "print(lastname)\n",
    "print(firstname + \" \" + lastname) #note the space in the middle"
   ]
  },
  {
   "cell_type": "code",
   "execution_count": null,
   "metadata": {
    "collapsed": true
   },
   "outputs": [],
   "source": [
    "#debugging exercise - find and fix all errors/bugs!\n",
    "for k in range(1,10)\n",
    "k += 1 #adds one to the current value of k\n",
    "if k = 6:\n",
    "    print(\"k = \")\n",
    "    print(k)"
   ]
  },
  {
   "cell_type": "markdown",
   "metadata": {},
   "source": [
    "#### Debugging exercise solution:\n",
    "\n",
    "Output should be exactly:\n",
    "\n",
    "```\n",
    "k = \n",
    "6\n",
    "```"
   ]
  },
  {
   "cell_type": "markdown",
   "metadata": {},
   "source": [
    "### The above is identical to Lesson 0. \n",
    "\n",
    "When you have finished with those commands, move on below and complete the tasks.\n",
    "\n",
    "--------"
   ]
  },
  {
   "cell_type": "code",
   "execution_count": null,
   "metadata": {
    "collapsed": true
   },
   "outputs": [],
   "source": [
    "#print all even numbers between 1 and N\n",
    "N = 10\n",
    "for j in range(1,N+1): #remember, if N = 10, then range would go between 1 and 9\n",
    "    if j % 2 == 0: #special notation for \"if j is even\" (actually means \"if the remainder when j is divided by 2 is zero)\n",
    "        print(j)"
   ]
  },
  {
   "cell_type": "code",
   "execution_count": null,
   "metadata": {
    "collapsed": true
   },
   "outputs": [],
   "source": [
    "#Task: adapt the code above to print all multiples of 3"
   ]
  },
  {
   "cell_type": "code",
   "execution_count": null,
   "metadata": {
    "collapsed": true
   },
   "outputs": [],
   "source": [
    "#defining functions - what do you think this code does? why would functions be important? experiment with changing this\n",
    "def myfunc(a,b):\n",
    "    c = a+b\n",
    "    return c\n",
    "\n",
    "myfunc(2,3)"
   ]
  },
  {
   "cell_type": "markdown",
   "metadata": {},
   "source": [
    "#### while loops\n",
    "\n",
    "* We learnt about *for loops* in lesson 0. **while loops** are similar, and are useful when you *don't know how many times you want to loop for*.\n",
    "\n",
    "```\n",
    "j = 1 #initialise j - otherwise python won't know what j is\n",
    "while j <= 10:\n",
    "    print(j) #display j at each point in the loop\n",
    "    j +=1 #add one to j\n",
    "\n",
    "```\n",
    "\n",
    "#### YOU CAN GET INFINITE WHIlE LOOPS WHICH WILL CRASH THE JUPYTER NOTEBOOK - always try and think what your code will do before you run it!\n",
    "\n",
    "Task: explain why the following would be an **infinite loop** (i.e. never ending)\n",
    "\n",
    "```\n",
    "j = 1 #initialise j - otherwise python won't know what j is\n",
    "while j <= 10:\n",
    "    print(j)\n",
    "```"
   ]
  },
  {
   "cell_type": "code",
   "execution_count": null,
   "metadata": {
    "collapsed": true
   },
   "outputs": [],
   "source": [
    "#exactly the same as ppreviously done with a for loop\n",
    "j = 1\n",
    "while j < 10:\n",
    "    if j == 5 or j == 7: #note the double == (asks is j=5? if yes, print j)\n",
    "        print(j)\n",
    "    j += 1"
   ]
  },
  {
   "cell_type": "code",
   "execution_count": null,
   "metadata": {},
   "outputs": [],
   "source": [
    "#\"Collatz conjecture\" commenting exercise - add appropriate comments to each line, showing your understanding of how this code works\n",
    "def collatz(N): #runs the program for user input number N\n",
    "    while N > 1:\n",
    "        if N % 2 == 0:\n",
    "            N = N/2\n",
    "        else:\n",
    "            N = 3*N + 1\n",
    "        print(int(N)) #prints N as an integer (whole number)\n",
    "\n",
    "collatz(10) #change this number - see if you can see what ALWAYS happens"
   ]
  },
  {
   "cell_type": "code",
   "execution_count": null,
   "metadata": {
    "scrolled": true
   },
   "outputs": [],
   "source": [
    "#debugging exercise - \"fizzbuzz\" - find and fix all bugs!\n",
    "N = 20 #stop after 20\n",
    "for j in Range(1,N):\n",
    "    if j % 3 == 0:\n",
    "        print('Fizz')\n",
    "    elif j % 5 == 0:\n",
    "        print('Buzz')\n",
    "    elif j % 3 == 0 and j % 5 == 0\n",
    "        print('Fizzbuzz')\n",
    "    else:\n",
    "    print(j)"
   ]
  },
  {
   "cell_type": "markdown",
   "metadata": {},
   "source": [
    "Fizzbuzz exact output should be:\n",
    "```\n",
    "1\n",
    "2\n",
    "Fizz\n",
    "4\n",
    "Buzz\n",
    "Fizz\n",
    "7\n",
    "8\n",
    "Fizz\n",
    "Buzz\n",
    "11\n",
    "Fizz\n",
    "13\n",
    "14\n",
    "Fizzbuzz\n",
    "16\n",
    "17\n",
    "Fizz\n",
    "19\n",
    "```"
   ]
  }
 ],
 "metadata": {
  "kernelspec": {
   "display_name": "Python 3",
   "language": "python",
   "name": "python3"
  },
  "language_info": {
   "codemirror_mode": {
    "name": "ipython",
    "version": 3
   },
   "file_extension": ".py",
   "mimetype": "text/x-python",
   "name": "python",
   "nbconvert_exporter": "python",
   "pygments_lexer": "ipython3",
   "version": "3.6.1"
  }
 },
 "nbformat": 4,
 "nbformat_minor": 2
}
