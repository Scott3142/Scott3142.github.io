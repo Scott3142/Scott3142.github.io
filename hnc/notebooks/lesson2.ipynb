{
 "cells": [
  {
   "cell_type": "markdown",
   "metadata": {},
   "source": [
    "## Lesson 2 - Conversion Between Number Types\n",
    "\n",
    "This program converts a decimal input to a binary expansion. Experiment with this file.\n",
    "\n",
    "--------\n",
    "\n",
    "#### Notes:\n",
    "* To run a cell, press Shift+Enter or go to Cell -> Run Cells.\n",
    "\n",
    "\n",
    "* Ask questions! Ask each other, ask me, ask Google. Read the error prompts - they are usually helpful!!"
   ]
  },
  {
   "cell_type": "markdown",
   "metadata": {},
   "source": [
    "#### Task:\n",
    "* Explain the code below, using comments in the code or a separate document."
   ]
  },
  {
   "cell_type": "code",
   "execution_count": 10,
   "metadata": {
    "collapsed": true
   },
   "outputs": [],
   "source": [
    "def int2bin(i):\n",
    "    if i == 0: return \"0\"\n",
    "    s = ''\n",
    "    while i:\n",
    "        if i & 1 == 1:\n",
    "            s = \"1\" + s\n",
    "        else:\n",
    "            s = \"0\" + s\n",
    "        i /= 2\n",
    "    return s"
   ]
  },
  {
   "cell_type": "code",
   "execution_count": 11,
   "metadata": {},
   "outputs": [
    {
     "data": {
      "text/plain": [
       "'1100'"
      ]
     },
     "execution_count": 11,
     "metadata": {},
     "output_type": "execute_result"
    }
   ],
   "source": [
    "int2bin(12)"
   ]
  },
  {
   "cell_type": "markdown",
   "metadata": {},
   "source": [
    "* Below is an example of an algorithm to convert decimal to hexadecimal numbers. Have a read through and try to undertand it. We'll revisit it later in the course."
   ]
  },
  {
   "cell_type": "code",
   "execution_count": 12,
   "metadata": {
    "collapsed": true
   },
   "outputs": [],
   "source": [
    "def ChangeHex(n):\n",
    "    if (n < 0):\n",
    "        print(0)\n",
    "    elif (n <= 1):\n",
    "        print n,\n",
    "    else:\n",
    "        ChangeHex( n / 16 )\n",
    "        x =(n%16)\n",
    "        if (x < 10):\n",
    "            print(x),\n",
    "        if (x == 10):\n",
    "            print(\"A\"),\n",
    "        if (x == 11):\n",
    "            print(\"B\"),\n",
    "        if (x == 12):\n",
    "            print(\"C\"),\n",
    "        if (x == 13):\n",
    "            print(\"D\"),\n",
    "        if (x == 14):\n",
    "            print(\"E\"),\n",
    "        if (x == 15):\n",
    "            print (\"F\"),"
   ]
  },
  {
   "cell_type": "code",
   "execution_count": 13,
   "metadata": {},
   "outputs": [
    {
     "name": "stdout",
     "output_type": "stream",
     "text": [
      "0 8 6\n"
     ]
    }
   ],
   "source": [
    "ChangeHex(134)"
   ]
  },
  {
   "cell_type": "markdown",
   "metadata": {},
   "source": [
    "* Luckily, Python has its own in-built function to do it for us. Simply call hex(number)."
   ]
  },
  {
   "cell_type": "code",
   "execution_count": 14,
   "metadata": {},
   "outputs": [
    {
     "data": {
      "text/plain": [
       "'0x86'"
      ]
     },
     "execution_count": 14,
     "metadata": {},
     "output_type": "execute_result"
    }
   ],
   "source": [
    "hex(134)"
   ]
  }
 ],
 "metadata": {
  "kernelspec": {
   "display_name": "Python 2",
   "language": "python",
   "name": "python2"
  },
  "language_info": {
   "codemirror_mode": {
    "name": "ipython",
    "version": 2
   },
   "file_extension": ".py",
   "mimetype": "text/x-python",
   "name": "python",
   "nbconvert_exporter": "python",
   "pygments_lexer": "ipython2",
   "version": "2.7.6"
  }
 },
 "nbformat": 4,
 "nbformat_minor": 2
}
