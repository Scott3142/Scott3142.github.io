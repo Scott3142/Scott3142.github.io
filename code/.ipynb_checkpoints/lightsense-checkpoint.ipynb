{
 "cells": [
  {
   "cell_type": "code",
   "execution_count": 1,
   "metadata": {},
   "outputs": [
    {
     "ename": "SyntaxError",
     "evalue": "invalid syntax (<ipython-input-1-34314427be93>, line 1)",
     "output_type": "error",
     "traceback": [
      "\u001b[0;36m  File \u001b[0;32m\"<ipython-input-1-34314427be93>\"\u001b[0;36m, line \u001b[0;32m1\u001b[0m\n\u001b[0;31m    from gpiozero import MCP3008, LED import time from time import\u001b[0m\n\u001b[0m                                           ^\u001b[0m\n\u001b[0;31mSyntaxError\u001b[0m\u001b[0;31m:\u001b[0m invalid syntax\n"
     ]
    }
   ],
   "source": [
    "from gpiozero import MCP3008, LED import time \n",
    "from time import sleep \n",
    "import numpy as np\n",
    "\n",
    "led = LED(21)\n",
    "led.on()\n",
    "\n",
    "sleep(1) #this must be done to make sure LED is lit\n",
    "\n",
    "adc = MCP3008(channel=1)\n",
    "\n",
    "secs = 5\n",
    "voltarray = []\n",
    "voltavgarray = []\n",
    "narray = []\n",
    "\n",
    "t_end = time.time() + secs\n",
    "while time.time() < t_end:\n",
    "    voltage = 3.3*adc.value\n",
    "    voltarray.append(voltage)\n",
    "    print(voltage)\n",
    "\n",
    "vmean = sum(voltarray)/float(len(voltarray))\n",
    "vsd = np.std(voltarray)\n",
    "rsd = vsd/vmean*100\n",
    "\n",
    "print(' ')\n",
    "print(vmean)\n",
    "print(' ')\n",
    "print(vsd)\n",
    "print(' ')\n",
    "print(rsd)"
   ]
  },
  {
   "cell_type": "code",
   "execution_count": null,
   "metadata": {},
   "outputs": [],
   "source": []
  }
 ],
 "metadata": {
  "kernelspec": {
   "display_name": "Python 3",
   "language": "python",
   "name": "python3"
  }
 },
 "nbformat": 4,
 "nbformat_minor": 2
}
