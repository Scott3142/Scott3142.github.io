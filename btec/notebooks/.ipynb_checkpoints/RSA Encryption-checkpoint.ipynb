{
 "cells": [
  {
   "cell_type": "markdown",
   "metadata": {},
   "source": [
    "## Example RSA Encryption Program\n",
    "\n",
    "Experiment with this file. Go through each cell and change some values so that you understand what it's doing. Remember your notebook from Lesson 0 - this has an overview of the commands below!\n",
    "\n",
    "--------\n",
    "\n",
    "#### Notes:\n",
    "* To run a cell, press Shift+Enter or go to Cell -> Run Cells.\n",
    "\n",
    "\n",
    "* Ask questions! Ask each other, ask me, ask Google. Read the error prompts - they are usually helpful!!"
   ]
  },
  {
   "cell_type": "code",
   "execution_count": 128,
   "metadata": {},
   "outputs": [],
   "source": [
    "import random\n",
    "import time\n",
    "\n",
    "def gcd(a,b):\n",
    "    \n",
    "    #greatest common divisor\n",
    "    while b != 0:\n",
    "        a, b = b, a % b\n",
    "    return a\n",
    "\n",
    "\n",
    "def gen_pub(tot):\n",
    "\n",
    "    #An integer public such that public and tot are coprime\n",
    "    public = random.randrange(1,tot)\n",
    "\n",
    "    #Euclid's Algorithm to verify that public and tot are comprime\n",
    "    g = gcd(public,tot)\n",
    "    while g != 1:\n",
    "        public = random.randrange(1,tot)\n",
    "        g = gcd(public,tot)\n",
    "        \n",
    "    return public\n",
    "\n",
    "def multiplicative_inverse(public,phi):\n",
    "    d,x1,x2,y1,temp = 0,0,1,1,phi\n",
    "\n",
    "    while public > 0:\n",
    "        temp1 = temp/public\n",
    "        temp2 = temp - (temp1*public)\n",
    "        temp = public\n",
    "        public = temp2\n",
    "\n",
    "        x = x2 - (temp1*x1)\n",
    "        y = d - (temp1*y1)\n",
    "\n",
    "        x2 = x1\n",
    "        x1 = x\n",
    "        d = y1\n",
    "        y1 = y\n",
    "\n",
    "    if temp == 1:\n",
    "        return d + phi\n",
    "    \n",
    "def factor(n):\n",
    "    \n",
    "    #calculates prime factors of a public key part n\n",
    "    i = 2\n",
    "    factors = []\n",
    "    while (i*i <= n):\n",
    "        if (n % i):\n",
    "            i += 1\n",
    "        else:\n",
    "            n //= i\n",
    "            factors.append(i)\n",
    "    if n > 1:\n",
    "        factors.append(n)\n",
    "    \n",
    "    return factors    \n",
    "\n",
    "def encrypt(message,public,n):\n",
    "    \n",
    "    #convert message to ascii numbers\n",
    "    asciimessage = [ord(letter) for letter in message]\n",
    "    \n",
    "    #encrypt message using public key\n",
    "    encrypted_message = []\n",
    "    for j in range(len(asciimessage)):\n",
    "        encrypted_message.append((asciimessage[j]**public)%n)\n",
    "    \n",
    "    return encrypted_message\n",
    "\n",
    "def decrypt(encrypted_message,private,n):\n",
    "    \n",
    "    #decrypt message using private key\n",
    "    asciidecrypted_message = []\n",
    "    for j in range(len(encrypted_message)):\n",
    "        asciidecrypted_message.append((encrypted_message[j]**private)%n)\n",
    "    \n",
    "    decrypted_message = ''.join([chr(number) for number in asciidecrypted_message])\n",
    "    return decrypted_message"
   ]
  },
  {
   "cell_type": "code",
   "execution_count": 129,
   "metadata": {},
   "outputs": [
    {
     "name": "stdout",
     "output_type": "stream",
     "text": [
      "Write a message to be encrypted: Hello world!\n",
      "Public key pair: (public,n) = (301,38407)\n",
      "Private key pair: (private,n) = (25765,38407) \n",
      "\n",
      "Original message: Hello world!\n",
      "Encrypted message: [5473L, 12022L, 34269L, 34269L, 2279L, 23328L, 14697L, 2279L, 28994L, 34269L, 30559L, 26547L]\n",
      "Decrypted message: Hello world!\n"
     ]
    }
   ],
   "source": [
    "#given both private and public key, encrypt and decrypt a message\n",
    "\n",
    "original_message = raw_input('Write a message to be encrypted: ')\n",
    "\n",
    "#set up two prime numbers\n",
    "p1 = 193\n",
    "p2 = 199\n",
    "\n",
    "#generate public key - then t = (p-1)*(q-1)\n",
    "n = p1*p2\n",
    "tot = (p1-1)*(p2-1)\n",
    "\n",
    "public = gen_pub(tot)\n",
    "private = multiplicative_inverse(public,tot)\n",
    "\n",
    "print('Public key pair: (public,n) = (' + str(public) + ',' + str(n) + ')')\n",
    "print('Private key pair: (private,n) = (' + str(private) + ',' + str(n) + ') \\n')\n",
    "\n",
    "encryp = encrypt(original_message,public,n)\n",
    "decryp = decrypt(encryp,private,n)\n",
    "\n",
    "print('Original message: ' + original_message)\n",
    "print('Encrypted message: ' + str(encryp))\n",
    "print('Decrypted message: ' + decryp)"
   ]
  },
  {
   "cell_type": "code",
   "execution_count": 133,
   "metadata": {
    "scrolled": true
   },
   "outputs": [
    {
     "name": "stdout",
     "output_type": "stream",
     "text": [
      "Input first part of public key pair (public,n): public = 301\n",
      "Input second part of public key pair (public,n): n = 38407\n",
      "Input encrypted message: [5473L, 12022L, 34269L, 34269L, 2279L, 23328L, 14697L, 2279L, 28994L, 34269L, 30559L, 26547L]\n",
      "\n",
      "Decrypted message: Hello world!\n",
      "\n",
      "Time taken to decode: 0.106877088547 seconds.\n"
     ]
    }
   ],
   "source": [
    "#given public key, crack private key and decrypt a message\n",
    "#Example: (public,n) = (17,629); encrypt = [463L, 492L, 567L, 567L, 111L]\n",
    "\n",
    "public = input('Input first part of public key pair (public,n): public = ')\n",
    "n = input('Input second part of public key pair (public,n): n = ')\n",
    "encryp = input('Input encrypted message: ')\n",
    "\n",
    "start_time = time.time()\n",
    "p1,p2 = factor(n)\n",
    "tot = (p1-1)*(p2-1)\n",
    "\n",
    "crack_private = multiplicative_inverse(public,tot)\n",
    "decryp = decrypt(encryp,private,n)\n",
    "elapsed_time = time.time() - start_time\n",
    "\n",
    "print('\\nDecrypted message: ' + decryp)\n",
    "print('\\nTime taken to crack: ' + str(elapsed_time) + ' seconds.')"
   ]
  },
  {
   "cell_type": "code",
   "execution_count": null,
   "metadata": {
    "collapsed": true
   },
   "outputs": [],
   "source": []
  }
 ],
 "metadata": {
  "kernelspec": {
   "display_name": "Python 2",
   "language": "python",
   "name": "python2"
  },
  "language_info": {
   "codemirror_mode": {
    "name": "ipython",
    "version": 2
   },
   "file_extension": ".py",
   "mimetype": "text/x-python",
   "name": "python",
   "nbconvert_exporter": "python",
   "pygments_lexer": "ipython2",
   "version": "2.7.6"
  }
 },
 "nbformat": 4,
 "nbformat_minor": 2
}
